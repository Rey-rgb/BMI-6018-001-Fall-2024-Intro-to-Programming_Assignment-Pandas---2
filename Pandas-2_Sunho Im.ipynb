{
 "cells": [
  {
   "cell_type": "code",
   "execution_count": 3,
   "id": "f6c206da-8656-4957-b8d6-c28576572b1f",
   "metadata": {},
   "outputs": [],
   "source": [
    "import numpy as np\n",
    "import pandas as pd"
   ]
  },
  {
   "cell_type": "code",
   "execution_count": 3,
   "id": "6334024c-5a34-47b3-ac04-4d1bac3310c5",
   "metadata": {},
   "outputs": [
    {
     "name": "stdout",
     "output_type": "stream",
     "text": [
      "18.16590212458495\n"
     ]
    }
   ],
   "source": [
    "# Question 1 (15 Points)\n",
    "# Compute the euclidean distance between series (points) p and q, without using a packaged formula.\n",
    "# Input\n",
    "p = pd.Series([1, 2, 3, 4, 5, 6, 7, 8, 9, 10])\n",
    "q = pd.Series([10, 9, 8, 7, 6, 5, 4, 3, 2, 1])\n",
    "\n",
    "squared_distance = (p-q)**2\n",
    "squared_distance_sum = squared_distance.sum()\n",
    "euclidean_distance = np.sqrt(squared_distance_sum)\n",
    "\n",
    "print(euclidean_distance)"
   ]
  },
  {
   "cell_type": "code",
   "execution_count": 5,
   "id": "c41c51d9-cb25-4ec0-8c0e-7a1ed813db7a",
   "metadata": {},
   "outputs": [
    {
     "name": "stdout",
     "output_type": "stream",
     "text": [
      "    a   b   c   d   e\n",
      "0   0   1   2   3   4\n",
      "1   5   6   7   8   9\n",
      "2  10  11  12  13  14\n",
      "3  15  16  17  18  19\n",
      "    c   b   a   d\n",
      "0   2   1   0   3\n",
      "1   7   6   5   8\n",
      "2  12  11  10  13\n",
      "3  17  16  15  18\n"
     ]
    }
   ],
   "source": [
    "# Question 2 (15 Points)\n",
    "# Change the order of columns of a dataframe. Interchange columns 'a' and 'c'.\n",
    "# Input\n",
    "df = pd.DataFrame(np.arange(20).reshape(-1, 5), columns=list('abcde'))\n",
    "print(df)\n",
    "order_change_df = df[[\"c\",\"b\",\"a\",\"d\"]]\n",
    "print(order_change_df)"
   ]
  },
  {
   "cell_type": "code",
   "execution_count": 7,
   "id": "f960fa0f-a49e-44f1-93fa-56ea02b6e383",
   "metadata": {},
   "outputs": [
    {
     "data": {
      "text/html": [
       "<div>\n",
       "<style scoped>\n",
       "    .dataframe tbody tr th:only-of-type {\n",
       "        vertical-align: middle;\n",
       "    }\n",
       "\n",
       "    .dataframe tbody tr th {\n",
       "        vertical-align: top;\n",
       "    }\n",
       "\n",
       "    .dataframe thead th {\n",
       "        text-align: right;\n",
       "    }\n",
       "</style>\n",
       "<table border=\"1\" class=\"dataframe\">\n",
       "  <thead>\n",
       "    <tr style=\"text-align: right;\">\n",
       "      <th></th>\n",
       "      <th>c</th>\n",
       "      <th>b</th>\n",
       "      <th>c</th>\n",
       "      <th>d</th>\n",
       "      <th>e</th>\n",
       "    </tr>\n",
       "  </thead>\n",
       "  <tbody>\n",
       "    <tr>\n",
       "      <th>0</th>\n",
       "      <td>2</td>\n",
       "      <td>1</td>\n",
       "      <td>2</td>\n",
       "      <td>3</td>\n",
       "      <td>4</td>\n",
       "    </tr>\n",
       "    <tr>\n",
       "      <th>1</th>\n",
       "      <td>7</td>\n",
       "      <td>6</td>\n",
       "      <td>7</td>\n",
       "      <td>8</td>\n",
       "      <td>9</td>\n",
       "    </tr>\n",
       "    <tr>\n",
       "      <th>2</th>\n",
       "      <td>12</td>\n",
       "      <td>11</td>\n",
       "      <td>12</td>\n",
       "      <td>13</td>\n",
       "      <td>14</td>\n",
       "    </tr>\n",
       "    <tr>\n",
       "      <th>3</th>\n",
       "      <td>17</td>\n",
       "      <td>16</td>\n",
       "      <td>17</td>\n",
       "      <td>18</td>\n",
       "      <td>19</td>\n",
       "    </tr>\n",
       "  </tbody>\n",
       "</table>\n",
       "</div>"
      ],
      "text/plain": [
       "    c   b   c   d   e\n",
       "0   2   1   2   3   4\n",
       "1   7   6   7   8   9\n",
       "2  12  11  12  13  14\n",
       "3  17  16  17  18  19"
      ]
     },
     "execution_count": 7,
     "metadata": {},
     "output_type": "execute_result"
    }
   ],
   "source": [
    "# Question 3 (15 Points)\n",
    "# Change the order of columns of a dataframe.  Create a generic function to interchange two columns, without hardcoding column names.\n",
    "# Input\n",
    "df = pd.DataFrame(np.arange(20).reshape(-1, 5), columns=list('abcde'))\n",
    "\n",
    "def interchange_columns(df, col1, col2):\n",
    "    col = list(df.columns)\n",
    "    id1 = col.index(col1)\n",
    "    id2 = col.index(col2)\n",
    "    col[id1] = col[id2]\n",
    "    col[id2] = col[id1]\n",
    "    return df[col]\n",
    "\n",
    "interchange_columns(df, \"a\", \"c\")"
   ]
  },
  {
   "cell_type": "code",
   "execution_count": 15,
   "id": "8738de39-61ad-4dd5-806c-0d84f145f551",
   "metadata": {},
   "outputs": [
    {
     "name": "stdout",
     "output_type": "stream",
     "text": [
      "     random\n",
      "0  0.016466\n",
      "1  0.267572\n",
      "2  0.000181\n",
      "3  0.000117\n",
      "   random\n",
      "0  0.0165\n",
      "1  0.2676\n",
      "2  0.0002\n",
      "3  0.0001\n"
     ]
    }
   ],
   "source": [
    "# Question 4 (15 Points)\n",
    "# Format or suppress scientific notations in a pandas dataframe. \n",
    "# Suppress scientific notations like ‘e-03’ in df and print upto 4 numbers after decimal.\n",
    "# Input\n",
    "df = pd.DataFrame(np.random.random(4)**10, columns=['random'])\n",
    "print(df.head())\n",
    "\n",
    "# Apply formatting to suppress scientific notation and set precision to 4 decimal places for this DataFrame\n",
    "df_ = df.map(lambda x: f\"{x:.4f}\")\n",
    "print(df_.head()) \n",
    "\n",
    "#>          random\n",
    "#> 0  3.474280e-03\n",
    "#> 1  3.951517e-05\n",
    "#> 2  7.469702e-02\n",
    "#> 3  5.541282e-28\n",
    "# Desired Output\n",
    "#>    random\n",
    "#> 0  0.0035\n",
    "#> 1  0.0000\n",
    "#> 2  0.0747\n",
    "#> 3  0.0000"
   ]
  },
  {
   "cell_type": "code",
   "execution_count": 25,
   "id": "64ed333c-4baf-4526-9bc8-52a5c964e5b9",
   "metadata": {},
   "outputs": [
    {
     "name": "stdout",
     "output_type": "stream",
     "text": [
      "    p   q   r   s nearest_row       dist\n",
      "a  49  11  43  45           f  38.183766\n",
      "b  19  93  78  37           i  67.156534\n",
      "c  35  62   8  73           i  59.924953\n",
      "d  92  76  50  14           i  42.035699\n",
      "e  92  20  26  72           g  38.078866\n",
      "f  22  20  61  63           a  38.183766\n",
      "g  78  27  52  95           e  38.078866\n",
      "h  75  17  52   3           a  50.566788\n",
      "i  61  85  27  28           d  42.035699\n",
      "j  19  36  88  96           f  45.639895\n"
     ]
    }
   ],
   "source": [
    "# Question 5 (15 Points)\n",
    "# Create a new column that contains the row number of nearest column by euclidean distance. \n",
    "# Create a new column such that, each row contains the row number of nearest row-record by euclidean distance.\n",
    "# Input\n",
    "df = pd.DataFrame(np.random.randint(1,100, 40).reshape(10, -1), columns=list('pqrs'), index=list('abcdefghij'))\n",
    "df\n",
    "\n",
    "distances = []\n",
    "for i, row in df.iterrows():\n",
    "    row_distances = []\n",
    "    for j, other_row in df.iterrows():\n",
    "        # Skip the distance calculation for the same row\n",
    "        if i == j:\n",
    "            row_distances.append(np.inf)\n",
    "        else:\n",
    "            # Calculate the Euclidean distance\n",
    "            dist = np.sqrt(np.sum((row - other_row) ** 2))\n",
    "            row_distances.append(dist)\n",
    "    distances.append(row_distances)\n",
    "\n",
    "# Convert distances to a NumPy array for easier manipulation\n",
    "distances = np.array(distances)\n",
    "\n",
    "# Find the index of the nearest row for each row and the corresponding distance\n",
    "nearest_indices = distances.argmin(axis=1)\n",
    "nearest_distances = distances.min(axis=1)\n",
    "\n",
    "df['nearest_row'] = [df.index[i] for i in nearest_indices]  # index labels\n",
    "df['dist'] = nearest_distances #add the distance column\n",
    "\n",
    "print(df)\n",
    "\n",
    "#     p   q   r   s\n",
    "# a  57  77  13  62\n",
    "# b  68   5  92  24\n",
    "# c  74  40  18  37\n",
    "# d  80  17  39  60\n",
    "# e  93  48  85  33\n",
    "# f  69  55   8  11\n",
    "# g  39  23  88  53\n",
    "# h  63  28  25  61\n",
    "# i  18   4  73   7\n",
    "# j  79  12  45  34\n",
    "# Desired Output\n",
    "# df\n",
    "#    p   q   r   s nearest_row   dist\n",
    "# a  57  77  13  62           i  116.0\n",
    "# b  68   5  92  24           a  114.0\n",
    "# c  74  40  18  37           i   91.0\n",
    "# d  80  17  39  60           i   89.0\n",
    "# e  93  48  85  33           i   92.0\n",
    "# f  69  55   8  11           g  100.0\n",
    "# g  39  23  88  53           f  100.0\n",
    "# h  63  28  25  61           i   88.0\n",
    "# i  18   4  73   7           a  116.0\n",
    "# j  79  12  45  34           a   81.0"
   ]
  },
  {
   "cell_type": "code",
   "execution_count": 13,
   "id": "2d7efdab-5238-4fcf-a898-e0e6a364354d",
   "metadata": {},
   "outputs": [
    {
     "name": "stdout",
     "output_type": "stream",
     "text": [
      "          A         B         C         D         E\n",
      "A  1.000000  0.756038  0.624390  0.493811  0.928600\n",
      "B  0.756038  1.000000  0.966733  0.363559  0.649558\n",
      "C  0.624390  0.966733  1.000000  0.218860  0.528068\n",
      "D  0.493811  0.363559  0.218860  1.000000  0.720177\n",
      "E  0.928600  0.649558  0.528068  0.720177  1.000000\n",
      "All the columns have positive correlation\n"
     ]
    }
   ],
   "source": [
    "# Question 6 (15 Points)\n",
    "# Correlation is a statistical technique that shows how two variables are related. \n",
    "# Pandas dataframe.corr() method is used for creating the correlation matrix. \n",
    "# It is used to find the pairwise correlation of all columns in the dataframe. \n",
    "# Any na values are automatically excluded. For any non-numeric data type columns in the dataframe it is ignored.\n",
    "\n",
    "# Input\n",
    "data = {'A': [45, 37, 0, 42, 50],\n",
    "        'B': [38, 31, 1, 26, 90],\n",
    "        'C': [10, 15, -10, 17, 100],\n",
    "        'D': [60, 99, 15, 23, 56],\n",
    "        'E': [76, 98, -0.03, 78, 90]\n",
    "        }\n",
    "\n",
    "df =  pd.DataFrame(data)\n",
    "correlation_matrix = df.corr()\n",
    "\n",
    "print(correlation_matrix)\n",
    "print(\"All the columns have positive correlation\")"
   ]
  },
  {
   "cell_type": "code",
   "execution_count": null,
   "id": "bc82ca83-fa3f-48d8-82d8-5ac6a7eb07d5",
   "metadata": {},
   "outputs": [],
   "source": []
  }
 ],
 "metadata": {
  "kernelspec": {
   "display_name": "Python 3 (ipykernel)",
   "language": "python",
   "name": "python3"
  },
  "language_info": {
   "codemirror_mode": {
    "name": "ipython",
    "version": 3
   },
   "file_extension": ".py",
   "mimetype": "text/x-python",
   "name": "python",
   "nbconvert_exporter": "python",
   "pygments_lexer": "ipython3",
   "version": "3.12.4"
  }
 },
 "nbformat": 4,
 "nbformat_minor": 5
}
